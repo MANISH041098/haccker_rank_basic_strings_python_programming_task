{
 "cells": [
  {
   "cell_type": "code",
   "execution_count": null,
   "id": "b2533f1c",
   "metadata": {},
   "outputs": [],
   "source": [
    "#1 question\n",
    "def swap_case(s):\n",
    "    s = s.swapcase()\n",
    "    return s"
   ]
  },
  {
   "cell_type": "code",
   "execution_count": null,
   "id": "5788f63f",
   "metadata": {},
   "outputs": [],
   "source": [
    "#2 question\n",
    "def split_and_join(line):\n",
    "    line = line.split(\" \")\n",
    "    line = \"-\".join(line)\n",
    "    return line\n"
   ]
  },
  {
   "cell_type": "code",
   "execution_count": null,
   "id": "3085fa1d",
   "metadata": {},
   "outputs": [],
   "source": [
    "#3 question\n",
    "def print_full_name(first, last):\n",
    "    print(\"Hello\",first,last + \"!\",\"You just delved into python.\")"
   ]
  },
  {
   "cell_type": "code",
   "execution_count": null,
   "id": "bcd70658",
   "metadata": {},
   "outputs": [],
   "source": [
    "#4 question\n",
    "def mutate_string(string, position, character):\n",
    "    string = string[:position] + character + string[position + 1:]\n",
    "    return string"
   ]
  },
  {
   "cell_type": "code",
   "execution_count": null,
   "id": "23d5bfa4",
   "metadata": {},
   "outputs": [],
   "source": [
    "#5 question\n",
    "def count_substring(string, sub_string):\n",
    "    c = 0\n",
    "    for i in range(0,len(string)):\n",
    "        \n",
    "        if string[i: i+len(sub_string)] == sub_string:\n",
    "            c= c + 1\n",
    "        \n",
    "    return c"
   ]
  },
  {
   "cell_type": "code",
   "execution_count": null,
   "id": "5ad2247c",
   "metadata": {},
   "outputs": [],
   "source": [
    "#6 question\n",
    "s = input()\n",
    "\n",
    "print(any([i.isalnum() for i in s]))\n",
    "print(any([i.isalpha() for i in s]))\n",
    "print(any([i.isdigit() for i in s]))\n",
    "print(any([i.islower() for i in s]))\n",
    "print(any([i.isupper() for i in s]))"
   ]
  },
  {
   "cell_type": "code",
   "execution_count": null,
   "id": "16dd92fc",
   "metadata": {},
   "outputs": [],
   "source": [
    "#7 question\n",
    "n = int(input())\n",
    "\n",
    "\n",
    "for i in range(1,n +1):\n",
    "    s = ((i*2)-1) * 'H' \n",
    "    print(s.center(n * 2 -1,\" \"))\n",
    "    \n",
    "for i in range(1,n + 2):\n",
    "    s1 = (n * \"H\").center(n * 2 - 1,\" \") + (n * 2 + 1) * \" \" + (n * \"H\").center(n * 2 - 1,\" \") + (n * 2 + 1) * \" \" \n",
    "    print(s1)\n",
    "    \n",
    "for i in range(0,n ,2):\n",
    "    s2 = (5 * n * \"H\").center(n * 6 - 1,\" \")\n",
    "    print(s2)\n",
    "    \n",
    "for i in range(1,n + 2):\n",
    "    s3 = (n * \"H\").center(n * 2 - 1,\" \") + (n * 2 + 1) * \" \" + (n * \"H\").center(n * 2 - 1,\" \") + (n * 2 + 1) * \" \" \n",
    "    print(s3)\n",
    "\n",
    "for i in range(n,0,-1):\n",
    "    s4 = n * 4 * \" \" + (((i*2)-1) * 'H').center(n * 2 - 1,\" \")\n",
    "    print(s4)"
   ]
  },
  {
   "cell_type": "code",
   "execution_count": null,
   "id": "9c9a3b1a",
   "metadata": {},
   "outputs": [],
   "source": [
    "#8 question\n",
    "   \n",
    "def wrap(string, max_width):\n",
    "    s = \"\"\n",
    "    for i in range(0,len(string),max_width):\n",
    "        s = s + string[i:i + max_width] + '\\n'\n",
    "    return s\n"
   ]
  },
  {
   "cell_type": "code",
   "execution_count": null,
   "id": "c644dc8d",
   "metadata": {},
   "outputs": [],
   "source": [
    "#9 question\n",
    "N,M = map(int,input().split())\n",
    "\n",
    "for i in range(1,N//2 + 1):\n",
    "    s = ((i * 2 -1) * \".|.\").center(M,\"-\")\n",
    "    print(s)\n",
    "    \n",
    "s1 =  \"WELCOME\".center(M,\"-\")\n",
    "print(s1)\n",
    "\n",
    "for i in range(N//2,0,-1):\n",
    "    s2 = ((i * 2 - 1) * \".|.\").center(M,\"-\")\n",
    "    print(s2)"
   ]
  },
  {
   "cell_type": "code",
   "execution_count": null,
   "id": "eb95e195",
   "metadata": {},
   "outputs": [],
   "source": [
    "#10 question\n",
    "def print_formatted(number):\n",
    "    wid_ = len(str(bin(number))[2:])\n",
    "    \n",
    "    for i in range(1,number + 1):\n",
    "       \n",
    "        s = str(i).rjust(wid_,\" \")\n",
    "        print(s,end=\" \")\n",
    "        \n",
    "        s1 = oct(i)[2:].rjust(wid_,\" \")\n",
    "        print(s1,end=\" \")\n",
    "        \n",
    "        s2 = hex(i)[2:].upper().rjust(wid_,\" \")\n",
    "        print(s2,end=\" \")\n",
    "        \n",
    "        s3 = bin(i)[2:].rjust(wid_,\" \")\n",
    "        print(s3)"
   ]
  },
  {
   "cell_type": "code",
   "execution_count": null,
   "id": "f028e872",
   "metadata": {},
   "outputs": [],
   "source": [
    "#11 question\n",
    "alpha_ = \"abcdefghijklmnopqrstuvwxyz\"\n",
    "down = []\n",
    "def print_rangoli(size):\n",
    "    \n",
    "    alp = list(alpha_[:size])\n",
    "    \n",
    "    for i in range(1,size+1):\n",
    "        \n",
    "        r_part = alp[len(alp)-i:]\n",
    "        l_part = r_part[::-1][:i-1]\n",
    "        all_part = l_part + r_part\n",
    "        join_ = '-'.join(all_part)\n",
    "        final = join_.center(size*4 - 3,'-')\n",
    "        down.append(final)\n",
    "        print(final)\n",
    "    for i in range(len(down)-2,-1,-1):\n",
    "        print(down[i])"
   ]
  },
  {
   "cell_type": "code",
   "execution_count": null,
   "id": "18c5a07f",
   "metadata": {},
   "outputs": [],
   "source": [
    "#12 question\n",
    "def solve(s):\n",
    "    final = s.split(\" \")\n",
    "    down = []\n",
    "    for i in final:\n",
    "        down.append(i.capitalize())\n",
    "        \n",
    "    new = ' '.join(down)\n",
    "    return new"
   ]
  },
  {
   "cell_type": "code",
   "execution_count": null,
   "id": "d4f48a04",
   "metadata": {},
   "outputs": [],
   "source": [
    "#13 question\n",
    "def minion_game(string):\n",
    "    vowels = 'AEIOU'\n",
    "    Kevin = 0\n",
    "    Stuart = 0\n",
    "    for i in range(len(string)):\n",
    "        if string[i] in vowels:\n",
    "            Kevin += (len(string) - i)\n",
    "        else:\n",
    "            Stuart += (len(string) - i)\n",
    "            \n",
    "    if Stuart == Kevin:\n",
    "        print('Draw')\n",
    "    elif Stuart > Kevin:\n",
    "        print('Stuart',Stuart)\n",
    "    else:\n",
    "        print('Kevin',Kevin)"
   ]
  },
  {
   "cell_type": "code",
   "execution_count": null,
   "id": "b9a8777a",
   "metadata": {},
   "outputs": [],
   "source": [
    "#14 question\n",
    "def merge_the_tools(string, k):\n",
    "    u = []\n",
    "    for i in range(len(string)//k):\n",
    "        u.append(string[0+(k*i):k+(k*i)])\n",
    "        \n",
    "    for i in u:\n",
    "        print(''.join(set(i)))\n"
   ]
  }
 ],
 "metadata": {
  "kernelspec": {
   "display_name": "Python 3 (ipykernel)",
   "language": "python",
   "name": "python3"
  },
  "language_info": {
   "codemirror_mode": {
    "name": "ipython",
    "version": 3
   },
   "file_extension": ".py",
   "mimetype": "text/x-python",
   "name": "python",
   "nbconvert_exporter": "python",
   "pygments_lexer": "ipython3",
   "version": "3.9.7"
  }
 },
 "nbformat": 4,
 "nbformat_minor": 5
}
